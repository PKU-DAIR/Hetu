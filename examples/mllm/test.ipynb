{
 "cells": [
  {
   "cell_type": "code",
   "execution_count": null,
   "metadata": {
    "vscode": {
     "languageId": "plaintext"
    }
   },
   "outputs": [],
   "source": [
    "import torch\n",
    "import torch.profiler\n",
    "\n",
    "# 模拟一个简单的模型训练过程\n",
    "class SimpleModel(torch.nn.Module):\n",
    "    def __init__(self):\n",
    "        super(SimpleModel, self).__init__()\n",
    "        self.fc = torch.nn.Linear(1024, 1024)\n",
    "\n",
    "    def forward(self, x):\n",
    "        return self.fc(x)\n",
    "\n",
    "# 生成一个随机输入\n",
    "input_tensor = torch.randn(16, 1024).to(\"cuda\")  # 16个样本，1024个特征，使用GPU\n",
    "\n",
    "# 初始化模型并将其移动到GPU\n",
    "model = SimpleModel().to(\"cuda\")\n",
    "\n",
    "# 使用PyTorch Profiler来监测显存\n",
    "with torch.profiler.profile(\n",
    "    activities=[\n",
    "        torch.profiler.ProfilerActivity.CPU,\n",
    "        torch.profiler.ProfilerActivity.CUDA\n",
    "    ],\n",
    "    schedule=torch.profiler.schedule(wait=1, warmup=1, active=3, repeat=2),\n",
    "    on_trace_ready=torch.profiler.tensorboard_trace_handler('./log'),  # 将结果保存到指定文件夹\n",
    "    record_shapes=True,\n",
    "    profile_memory=True,  # 开启内存分析\n",
    "    with_stack=True\n",
    ") as profiler:\n",
    "\n",
    "    # 进行一些训练步骤以监测显存\n",
    "    for step in range(10):\n",
    "        optimizer = torch.optim.SGD(model.parameters(), lr=0.01)\n",
    "        optimizer.zero_grad()\n",
    "\n",
    "        # 前向传播\n",
    "        output = model(input_tensor)\n",
    "\n",
    "        # 计算损失\n",
    "        loss = output.sum()\n",
    "\n",
    "        # 反向传播\n",
    "        loss.backward()\n",
    "\n",
    "        # 更新权重\n",
    "        optimizer.step()\n",
    "\n",
    "        # 打印当前显存使用情况\n",
    "        print(f\"Step {step}: {torch.cuda.memory_allocated() / 1024**2} MB allocated\")\n",
    "\n",
    "        # 记录 Profiler 数据\n",
    "        profiler.step()\n",
    "\n",
    "print(\"Profiling complete.\")"
   ]
  },
  {
   "cell_type": "code",
   "execution_count": null,
   "metadata": {
    "vscode": {
     "languageId": "plaintext"
    }
   },
   "outputs": [],
   "source": []
  }
 ],
 "metadata": {
  "language_info": {
   "name": "python"
  }
 },
 "nbformat": 4,
 "nbformat_minor": 2
}
